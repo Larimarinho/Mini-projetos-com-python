{
  "nbformat": 4,
  "nbformat_minor": 0,
  "metadata": {
    "colab": {
      "name": "CalculadoraIMC.ipynb",
      "provenance": []
    },
    "kernelspec": {
      "name": "python3",
      "display_name": "Python 3"
    }
  },
  "cells": [
    {
      "cell_type": "code",
      "metadata": {
        "id": "Ptkc2cP8z-9K"
      },
      "source": [
        "# Calculo de IMC \n",
        "\n",
        "altura = float(input(\"Sua altura em metros: \"))\n",
        "peso = float(input(\"Seu peso em kg: \"))\n",
        "\n",
        "imc = peso / altura**2\n",
        "print(f'Seu IMC é: {imc:.2f}')\n",
        "\n",
        "if imc < 18.5:\n",
        "  print(\"Sua classificação de IMC é magreza\")\n",
        "\n",
        "elif imc >= 18.5 and imc <= 24.9:\n",
        "  print(\"Sua classificação de IMC é normal\")\n",
        "\n",
        "elif imc >= 25.0 and imc <= 29.9:\n",
        "  print(\"Sua classificação de IMC é de sobrepeso grau I\")\n",
        "\n",
        "elif imc >= 30.0 and imc <= 39.9:\n",
        "  print(\"Sua classificação de IMC é de obesidade grau II\")\n",
        "\n",
        "elif imc >= 40.0:\n",
        "  print(\"Sua classificação de IMC é de obesidade grave grau III\")"
      ],
      "execution_count": null,
      "outputs": []
    }
  ]
}