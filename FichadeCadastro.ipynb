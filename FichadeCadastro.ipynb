{
  "nbformat": 4,
  "nbformat_minor": 0,
  "metadata": {
    "colab": {
      "name": "FichadeCadastro.ipynb",
      "provenance": []
    },
    "kernelspec": {
      "name": "python3",
      "display_name": "Python 3"
    }
  },
  "cells": [
    {
      "cell_type": "code",
      "metadata": {
        "id": "yXyYd9uHl4ED",
        "colab": {
          "base_uri": "https://localhost:8080/"
        },
        "outputId": "6d04a249-e748-469d-f577-4eccd44e4857"
      },
      "source": [
        "print(\"\\n******************* Cadastro de Cliente *******************\")\n",
        "\n",
        "from datetime import datetime\n",
        "dados = dict()\n",
        "dados['nome'] = str(input(\"Nome: \"))\n",
        "nasc = int(input(\"Ano do nascimento: \"))\n",
        "dados['idade'] = datetime.now().year - nasc\n",
        "dados['peso'] = float(input(\"Digite seu peso: \"))\n",
        "dados['altura'] = float(input(\"Digite seu altura: \"))\n",
        "dados['mod'] = str(input(\"Digite a modalidade escolhida: \"))\n",
        "dados['pag'] = str(input(\"Digite a forma de pagamento: \"))\n",
        "\n",
        "\n",
        "print('-=' * 30)\n",
        "for k, v in dados.items():\n",
        "  print(f'  - {k} é {v}')\n"
      ],
      "execution_count": null,
      "outputs": [
        {
          "output_type": "stream",
          "text": [
            "\n",
            "******************* Cadastro de Cliente *******************\n"
          ],
          "name": "stdout"
        }
      ]
    }
  ]
}