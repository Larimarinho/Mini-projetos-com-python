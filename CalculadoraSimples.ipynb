{
  "nbformat": 4,
  "nbformat_minor": 0,
  "metadata": {
    "colab": {
      "name": "CalculadoraSimples",
      "provenance": []
    },
    "kernelspec": {
      "name": "python3",
      "display_name": "Python 3"
    }
  },
  "cells": [
    {
      "cell_type": "code",
      "metadata": {
        "colab": {
          "base_uri": "https://localhost:8080/"
        },
        "id": "pgNzU_lCzXKY",
        "outputId": "c0ce170f-20d1-4ab7-8212-aafafbfa4f53"
      },
      "source": [
        "print(\"\\n******************* Python Calculator *******************\")\n",
        "\n",
        "def add(x,y):\n",
        "  return x + y \n",
        "\n",
        "def subtrack(x,y):\n",
        "  return x - y\n",
        "\n",
        "def multiply(x,y):\n",
        "  return x * y \n",
        "\n",
        "def divide(x,y):\n",
        "  return x / y \n",
        "\n",
        "print(\"\\nSelecione o número da operação desejada: \\n\")\n",
        "print(\"1 - Soma\")\n",
        "print(\"2 - Subtração\")\n",
        "print(\"3 - Multiplicação\")\n",
        "print(\"4 - Divisão\")\n",
        "\n",
        "escolha = input(\"\\nDigite sua operação (1/2/3/4): \")\n",
        "\n",
        "num1 = int(input(\"\\nDigite o primeiro número: \"))\n",
        "num2 = int(input(\"\\nDigite o segundo número: \"))\n",
        "\n",
        "\n",
        "if escolha == '1':\n",
        "  print(\"\\n\")\n",
        "  print(num1, \"+\", num2, \"=\", add(num1, num2))\n",
        "  print(\"\\n\")\n",
        "\n",
        "elif escolha == '2':\n",
        "  print(\"\\n\")\n",
        "  print(num1, \"-\", num2, \"=\", subtrack(num1, num2))\n",
        "  print(\"\\n\")\n",
        "\n",
        "elif escolha == '3':\n",
        "  print(\"\\n\")\n",
        "  print(num1, \"*\", num2, \"=\", multiply(num1, num2))\n",
        "  print(\"\\n\")\n",
        "\n",
        "elif escolha == '4':\n",
        "  print(\"\\n\")\n",
        "  print(num1, \"/\", num2, \"=\", divide(num1, num2))\n",
        "  print(\"\\n\")\n",
        "\n",
        "else:\n",
        "  print(\"\\nOperação Inválida!\")"
      ],
      "execution_count": null,
      "outputs": [
        {
          "output_type": "stream",
          "text": [
            "\n",
            "******************* Python Calculator *******************\n",
            "\n",
            "Selecione o número da operação desejada: \n",
            "\n",
            "1 - Soma\n",
            "2 - Subtração\n",
            "3 - Multiplicação\n",
            "4 - Divisão\n",
            "\n",
            "Digite sua operação (1/2/3/4): 4\n",
            "\n",
            "Digite o primeiro número: 3000\n",
            "\n",
            "Digite o segundo número: 250\n",
            "\n",
            "\n",
            "3000 / 250 = 12.0\n",
            "\n",
            "\n"
          ],
          "name": "stdout"
        }
      ]
    }
  ]
}