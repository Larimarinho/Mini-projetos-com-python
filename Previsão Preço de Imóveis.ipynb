{
 "cells": [
  {
   "cell_type": "markdown",
   "id": "b24a4b3c",
   "metadata": {},
   "source": [
    "# Previsão do preço médio de imóveis "
   ]
  },
  {
   "cell_type": "markdown",
   "id": "a63d65ce",
   "metadata": {},
   "source": [
    "## Bibliotecas"
   ]
  },
  {
   "cell_type": "code",
   "execution_count": 1,
   "id": "817c2d97",
   "metadata": {},
   "outputs": [],
   "source": [
    "# Importando bibiliotecas que serão utilizadas durante todo o projeto\n",
    "import pandas as pd\n",
    "import numpy as np\n",
    "import seaborn as sns\n",
    "from sklearn.model_selection import train_test_split\n",
    "from sklearn.linear_model import LinearRegression\n",
    "from sklearn import metrics\n",
    "from sklearn.metrics import mean_squared_error\n",
    "import pickle\n",
    "\n",
    "#import matplotlib.pyplot as plt\n",
    "#%matplotlib inline"
   ]
  },
  {
   "cell_type": "code",
   "execution_count": 2,
   "id": "94bd4429",
   "metadata": {},
   "outputs": [],
   "source": [
    "#importando uma biblioteca para retirar os avisos(warning)\n",
    "import warnings\n",
    "warnings.filterwarnings('ignore') # ou warnings.filterwarnings(action='once')\n",
    "\n",
    "#Cuidado ao usar essa biblioteca, alguns avisos são importantes."
   ]
  },
  {
   "cell_type": "markdown",
   "id": "440bf94c",
   "metadata": {},
   "source": [
    "# Projeto\n",
    "O objetivo nesse projeto é criar um modelo de machine learning, utilizando a técnica de Regressão Linear, que faça previsões sobre os preços de imóveis a partir de um conjunto de características conhecidas dos imóveis.\n",
    "\n",
    "# Dados presentes no dataset\n",
    " - precos - Preços do imóveis\n",
    " - area - Área do imóvel\n",
    " - garagem - Número de vagas de garagem\n",
    " - banheiros - Número de banheiros\n",
    " - lareira - Número de lareiras\n",
    " - marmore - Se o imóvel possui acabamento em mármore branco (1) ou não (0)\n",
    " - andares - Se o imóvel possui mais de um andar (1) ou não (0)\n"
   ]
  },
  {
   "cell_type": "code",
   "execution_count": 3,
   "id": "526f007f",
   "metadata": {},
   "outputs": [
    {
     "data": {
      "text/html": [
       "<div>\n",
       "<style scoped>\n",
       "    .dataframe tbody tr th:only-of-type {\n",
       "        vertical-align: middle;\n",
       "    }\n",
       "\n",
       "    .dataframe tbody tr th {\n",
       "        vertical-align: top;\n",
       "    }\n",
       "\n",
       "    .dataframe thead th {\n",
       "        text-align: right;\n",
       "    }\n",
       "</style>\n",
       "<table border=\"1\" class=\"dataframe\">\n",
       "  <thead>\n",
       "    <tr style=\"text-align: right;\">\n",
       "      <th></th>\n",
       "      <th>precos</th>\n",
       "      <th>area</th>\n",
       "      <th>garagem</th>\n",
       "      <th>banheiros</th>\n",
       "      <th>lareira</th>\n",
       "      <th>marmore</th>\n",
       "      <th>andares</th>\n",
       "    </tr>\n",
       "  </thead>\n",
       "  <tbody>\n",
       "    <tr>\n",
       "      <th>0</th>\n",
       "      <td>51875</td>\n",
       "      <td>25</td>\n",
       "      <td>3</td>\n",
       "      <td>4</td>\n",
       "      <td>3</td>\n",
       "      <td>0</td>\n",
       "      <td>1</td>\n",
       "    </tr>\n",
       "    <tr>\n",
       "      <th>1</th>\n",
       "      <td>17875</td>\n",
       "      <td>35</td>\n",
       "      <td>1</td>\n",
       "      <td>3</td>\n",
       "      <td>1</td>\n",
       "      <td>0</td>\n",
       "      <td>0</td>\n",
       "    </tr>\n",
       "    <tr>\n",
       "      <th>2</th>\n",
       "      <td>47075</td>\n",
       "      <td>195</td>\n",
       "      <td>2</td>\n",
       "      <td>4</td>\n",
       "      <td>2</td>\n",
       "      <td>0</td>\n",
       "      <td>0</td>\n",
       "    </tr>\n",
       "    <tr>\n",
       "      <th>3</th>\n",
       "      <td>38575</td>\n",
       "      <td>33</td>\n",
       "      <td>2</td>\n",
       "      <td>2</td>\n",
       "      <td>1</td>\n",
       "      <td>0</td>\n",
       "      <td>1</td>\n",
       "    </tr>\n",
       "    <tr>\n",
       "      <th>4</th>\n",
       "      <td>33775</td>\n",
       "      <td>11</td>\n",
       "      <td>2</td>\n",
       "      <td>3</td>\n",
       "      <td>0</td>\n",
       "      <td>0</td>\n",
       "      <td>1</td>\n",
       "    </tr>\n",
       "    <tr>\n",
       "      <th>...</th>\n",
       "      <td>...</td>\n",
       "      <td>...</td>\n",
       "      <td>...</td>\n",
       "      <td>...</td>\n",
       "      <td>...</td>\n",
       "      <td>...</td>\n",
       "      <td>...</td>\n",
       "    </tr>\n",
       "    <tr>\n",
       "      <th>995</th>\n",
       "      <td>29150</td>\n",
       "      <td>48</td>\n",
       "      <td>1</td>\n",
       "      <td>5</td>\n",
       "      <td>4</td>\n",
       "      <td>0</td>\n",
       "      <td>0</td>\n",
       "    </tr>\n",
       "    <tr>\n",
       "      <th>996</th>\n",
       "      <td>43550</td>\n",
       "      <td>112</td>\n",
       "      <td>2</td>\n",
       "      <td>2</td>\n",
       "      <td>3</td>\n",
       "      <td>0</td>\n",
       "      <td>1</td>\n",
       "    </tr>\n",
       "    <tr>\n",
       "      <th>997</th>\n",
       "      <td>56575</td>\n",
       "      <td>185</td>\n",
       "      <td>3</td>\n",
       "      <td>4</td>\n",
       "      <td>4</td>\n",
       "      <td>0</td>\n",
       "      <td>1</td>\n",
       "    </tr>\n",
       "    <tr>\n",
       "      <th>998</th>\n",
       "      <td>56075</td>\n",
       "      <td>185</td>\n",
       "      <td>2</td>\n",
       "      <td>3</td>\n",
       "      <td>1</td>\n",
       "      <td>0</td>\n",
       "      <td>1</td>\n",
       "    </tr>\n",
       "    <tr>\n",
       "      <th>999</th>\n",
       "      <td>13350</td>\n",
       "      <td>94</td>\n",
       "      <td>1</td>\n",
       "      <td>1</td>\n",
       "      <td>3</td>\n",
       "      <td>0</td>\n",
       "      <td>0</td>\n",
       "    </tr>\n",
       "  </tbody>\n",
       "</table>\n",
       "<p>1000 rows × 7 columns</p>\n",
       "</div>"
      ],
      "text/plain": [
       "     precos  area  garagem  banheiros  lareira  marmore  andares\n",
       "0     51875    25        3          4        3        0        1\n",
       "1     17875    35        1          3        1        0        0\n",
       "2     47075   195        2          4        2        0        0\n",
       "3     38575    33        2          2        1        0        1\n",
       "4     33775    11        2          3        0        0        1\n",
       "..      ...   ...      ...        ...      ...      ...      ...\n",
       "995   29150    48        1          5        4        0        0\n",
       "996   43550   112        2          2        3        0        1\n",
       "997   56575   185        3          4        4        0        1\n",
       "998   56075   185        2          3        1        0        1\n",
       "999   13350    94        1          1        3        0        0\n",
       "\n",
       "[1000 rows x 7 columns]"
      ]
     },
     "execution_count": 3,
     "metadata": {},
     "output_type": "execute_result"
    }
   ],
   "source": [
    "#Fazendo a leitura do dataset\n",
    "dados =  pd.read_csv('dados/HousePrices_HalfMil.csv', sep = ';')\n",
    "dados"
   ]
  },
  {
   "cell_type": "code",
   "execution_count": 4,
   "id": "b8872715",
   "metadata": {},
   "outputs": [
    {
     "data": {
      "text/plain": [
       "(1000, 7)"
      ]
     },
     "execution_count": 4,
     "metadata": {},
     "output_type": "execute_result"
    }
   ],
   "source": [
    "#verificando o tamanho do dataset\n",
    "dados.shape"
   ]
  },
  {
   "cell_type": "markdown",
   "id": "ba6f64e7",
   "metadata": {},
   "source": [
    "# Análises Preliminares\n",
    "Análise descritiva"
   ]
  },
  {
   "cell_type": "code",
   "execution_count": 5,
   "id": "05ee783a",
   "metadata": {},
   "outputs": [
    {
     "data": {
      "text/html": [
       "<div>\n",
       "<style scoped>\n",
       "    .dataframe tbody tr th:only-of-type {\n",
       "        vertical-align: middle;\n",
       "    }\n",
       "\n",
       "    .dataframe tbody tr th {\n",
       "        vertical-align: top;\n",
       "    }\n",
       "\n",
       "    .dataframe thead th {\n",
       "        text-align: right;\n",
       "    }\n",
       "</style>\n",
       "<table border=\"1\" class=\"dataframe\">\n",
       "  <thead>\n",
       "    <tr style=\"text-align: right;\">\n",
       "      <th></th>\n",
       "      <th>precos</th>\n",
       "      <th>area</th>\n",
       "      <th>garagem</th>\n",
       "      <th>banheiros</th>\n",
       "      <th>lareira</th>\n",
       "      <th>marmore</th>\n",
       "      <th>andares</th>\n",
       "    </tr>\n",
       "  </thead>\n",
       "  <tbody>\n",
       "    <tr>\n",
       "      <th>count</th>\n",
       "      <td>1000.00</td>\n",
       "      <td>1000.00</td>\n",
       "      <td>1000.00</td>\n",
       "      <td>1000.00</td>\n",
       "      <td>1000.00</td>\n",
       "      <td>1000.00</td>\n",
       "      <td>1000.00</td>\n",
       "    </tr>\n",
       "    <tr>\n",
       "      <th>mean</th>\n",
       "      <td>41985.60</td>\n",
       "      <td>124.33</td>\n",
       "      <td>2.01</td>\n",
       "      <td>3.00</td>\n",
       "      <td>2.03</td>\n",
       "      <td>0.33</td>\n",
       "      <td>0.48</td>\n",
       "    </tr>\n",
       "    <tr>\n",
       "      <th>std</th>\n",
       "      <td>12140.39</td>\n",
       "      <td>72.39</td>\n",
       "      <td>0.81</td>\n",
       "      <td>1.43</td>\n",
       "      <td>1.42</td>\n",
       "      <td>0.47</td>\n",
       "      <td>0.50</td>\n",
       "    </tr>\n",
       "    <tr>\n",
       "      <th>min</th>\n",
       "      <td>13150.00</td>\n",
       "      <td>1.00</td>\n",
       "      <td>1.00</td>\n",
       "      <td>1.00</td>\n",
       "      <td>0.00</td>\n",
       "      <td>0.00</td>\n",
       "      <td>0.00</td>\n",
       "    </tr>\n",
       "    <tr>\n",
       "      <th>25%</th>\n",
       "      <td>33112.50</td>\n",
       "      <td>60.75</td>\n",
       "      <td>1.00</td>\n",
       "      <td>2.00</td>\n",
       "      <td>1.00</td>\n",
       "      <td>0.00</td>\n",
       "      <td>0.00</td>\n",
       "    </tr>\n",
       "    <tr>\n",
       "      <th>50%</th>\n",
       "      <td>41725.00</td>\n",
       "      <td>123.00</td>\n",
       "      <td>2.00</td>\n",
       "      <td>3.00</td>\n",
       "      <td>2.00</td>\n",
       "      <td>0.00</td>\n",
       "      <td>0.00</td>\n",
       "    </tr>\n",
       "    <tr>\n",
       "      <th>75%</th>\n",
       "      <td>51175.00</td>\n",
       "      <td>187.00</td>\n",
       "      <td>3.00</td>\n",
       "      <td>4.00</td>\n",
       "      <td>3.00</td>\n",
       "      <td>1.00</td>\n",
       "      <td>1.00</td>\n",
       "    </tr>\n",
       "    <tr>\n",
       "      <th>max</th>\n",
       "      <td>73675.00</td>\n",
       "      <td>249.00</td>\n",
       "      <td>3.00</td>\n",
       "      <td>5.00</td>\n",
       "      <td>4.00</td>\n",
       "      <td>1.00</td>\n",
       "      <td>1.00</td>\n",
       "    </tr>\n",
       "  </tbody>\n",
       "</table>\n",
       "</div>"
      ],
      "text/plain": [
       "         precos     area  garagem  banheiros  lareira  marmore  andares\n",
       "count   1000.00  1000.00  1000.00    1000.00  1000.00  1000.00  1000.00\n",
       "mean   41985.60   124.33     2.01       3.00     2.03     0.33     0.48\n",
       "std    12140.39    72.39     0.81       1.43     1.42     0.47     0.50\n",
       "min    13150.00     1.00     1.00       1.00     0.00     0.00     0.00\n",
       "25%    33112.50    60.75     1.00       2.00     1.00     0.00     0.00\n",
       "50%    41725.00   123.00     2.00       3.00     2.00     0.00     0.00\n",
       "75%    51175.00   187.00     3.00       4.00     3.00     1.00     1.00\n",
       "max    73675.00   249.00     3.00       5.00     4.00     1.00     1.00"
      ]
     },
     "execution_count": 5,
     "metadata": {},
     "output_type": "execute_result"
    }
   ],
   "source": [
    "dados.describe().round(2)"
   ]
  },
  {
   "cell_type": "code",
   "execution_count": 6,
   "id": "092e8bf1",
   "metadata": {},
   "outputs": [
    {
     "data": {
      "text/html": [
       "<div>\n",
       "<style scoped>\n",
       "    .dataframe tbody tr th:only-of-type {\n",
       "        vertical-align: middle;\n",
       "    }\n",
       "\n",
       "    .dataframe tbody tr th {\n",
       "        vertical-align: top;\n",
       "    }\n",
       "\n",
       "    .dataframe thead th {\n",
       "        text-align: right;\n",
       "    }\n",
       "</style>\n",
       "<table border=\"1\" class=\"dataframe\">\n",
       "  <thead>\n",
       "    <tr style=\"text-align: right;\">\n",
       "      <th></th>\n",
       "      <th>precos</th>\n",
       "      <th>area</th>\n",
       "      <th>garagem</th>\n",
       "      <th>banheiros</th>\n",
       "      <th>lareira</th>\n",
       "      <th>marmore</th>\n",
       "      <th>andares</th>\n",
       "    </tr>\n",
       "  </thead>\n",
       "  <tbody>\n",
       "    <tr>\n",
       "      <th>precos</th>\n",
       "      <td>1.00</td>\n",
       "      <td>0.12</td>\n",
       "      <td>0.10</td>\n",
       "      <td>0.12</td>\n",
       "      <td>0.11</td>\n",
       "      <td>0.43</td>\n",
       "      <td>0.63</td>\n",
       "    </tr>\n",
       "    <tr>\n",
       "      <th>area</th>\n",
       "      <td>0.12</td>\n",
       "      <td>1.00</td>\n",
       "      <td>-0.01</td>\n",
       "      <td>-0.01</td>\n",
       "      <td>0.01</td>\n",
       "      <td>-0.02</td>\n",
       "      <td>-0.02</td>\n",
       "    </tr>\n",
       "    <tr>\n",
       "      <th>garagem</th>\n",
       "      <td>0.10</td>\n",
       "      <td>-0.01</td>\n",
       "      <td>1.00</td>\n",
       "      <td>0.07</td>\n",
       "      <td>0.06</td>\n",
       "      <td>-0.02</td>\n",
       "      <td>-0.02</td>\n",
       "    </tr>\n",
       "    <tr>\n",
       "      <th>banheiros</th>\n",
       "      <td>0.12</td>\n",
       "      <td>-0.01</td>\n",
       "      <td>0.07</td>\n",
       "      <td>1.00</td>\n",
       "      <td>0.05</td>\n",
       "      <td>-0.03</td>\n",
       "      <td>-0.02</td>\n",
       "    </tr>\n",
       "    <tr>\n",
       "      <th>lareira</th>\n",
       "      <td>0.11</td>\n",
       "      <td>0.01</td>\n",
       "      <td>0.06</td>\n",
       "      <td>0.05</td>\n",
       "      <td>1.00</td>\n",
       "      <td>0.03</td>\n",
       "      <td>-0.00</td>\n",
       "    </tr>\n",
       "    <tr>\n",
       "      <th>marmore</th>\n",
       "      <td>0.43</td>\n",
       "      <td>-0.02</td>\n",
       "      <td>-0.02</td>\n",
       "      <td>-0.03</td>\n",
       "      <td>0.03</td>\n",
       "      <td>1.00</td>\n",
       "      <td>-0.01</td>\n",
       "    </tr>\n",
       "    <tr>\n",
       "      <th>andares</th>\n",
       "      <td>0.63</td>\n",
       "      <td>-0.02</td>\n",
       "      <td>-0.02</td>\n",
       "      <td>-0.02</td>\n",
       "      <td>-0.00</td>\n",
       "      <td>-0.01</td>\n",
       "      <td>1.00</td>\n",
       "    </tr>\n",
       "  </tbody>\n",
       "</table>\n",
       "</div>"
      ],
      "text/plain": [
       "           precos  area  garagem  banheiros  lareira  marmore  andares\n",
       "precos       1.00  0.12     0.10       0.12     0.11     0.43     0.63\n",
       "area         0.12  1.00    -0.01      -0.01     0.01    -0.02    -0.02\n",
       "garagem      0.10 -0.01     1.00       0.07     0.06    -0.02    -0.02\n",
       "banheiros    0.12 -0.01     0.07       1.00     0.05    -0.03    -0.02\n",
       "lareira      0.11  0.01     0.06       0.05     1.00     0.03    -0.00\n",
       "marmore      0.43 -0.02    -0.02      -0.03     0.03     1.00    -0.01\n",
       "andares      0.63 -0.02    -0.02      -0.02    -0.00    -0.01     1.00"
      ]
     },
     "execution_count": 6,
     "metadata": {},
     "output_type": "execute_result"
    }
   ],
   "source": [
    "#Estou utilizando o coeficiente de correlação para encontrar a associação linear entre as variáveis, onde \n",
    "#entre -1 e +1 sendo que -1 indica associação negativa perfeita e +1 indica associação positiva perfeita.\n",
    "dados.corr().round(2)"
   ]
  },
  {
   "cell_type": "markdown",
   "id": "c67611ec",
   "metadata": {},
   "source": [
    "# Análise Gráfica dos dados"
   ]
  },
  {
   "cell_type": "code",
   "execution_count": 7,
   "id": "35826822",
   "metadata": {},
   "outputs": [],
   "source": [
    "#colinha para escolher as cores e estilo do gráfic\n",
    "\n",
    "#palette -> Accent, Accent_r, Blues, Blues_r, BrBG, BrBG_r, BuGn, BuGn_r, BuPu, BuPu_r, CMRmap, CMRmap_r, Dark2\n",
    "# style -> white, dark, whitegrid, darkgrid, ticks"
   ]
  },
  {
   "cell_type": "code",
   "execution_count": 8,
   "id": "e0576898",
   "metadata": {},
   "outputs": [],
   "source": [
    "sns.set_palette(\"Accent\")\n",
    "sns.set_style(\"darkgrid\")"
   ]
  },
  {
   "cell_type": "markdown",
   "id": "3d8d8e1b",
   "metadata": {},
   "source": [
    "#### Estou usando o boxplot para avaliar o comportamento da distruibuição da variavél dependente, verificando se existe valores discrepantes(outliers) e o boxplot apresenta algumas tendência. "
   ]
  },
  {
   "cell_type": "code",
   "execution_count": 9,
   "id": "c4d46088",
   "metadata": {},
   "outputs": [
    {
     "data": {
      "text/plain": [
       "<AxesSubplot:title={'center':'Preços dos Imóveis R$'}, ylabel='R$'>"
      ]
     },
     "execution_count": 9,
     "metadata": {},
     "output_type": "execute_result"
    },
    {
     "data": {
      "image/png": "[encoded data removed]",
      "text/plain": [
       "<Figure size 864x432 with 1 Axes>"
      ]
     },
     "metadata": {},
     "output_type": "display_data"
    }
   ],
   "source": [
    "ax = sns.boxplot(data = dados['precos'], orient = 'v', width = 0.2)\n",
    "ax.figure.set_size_inches(12, 6)\n",
    "ax.set_title('Preços dos Imóveis R$', fontsize = 20)\n",
    "ax.set_ylabel('R$', fontsize = 16)\n",
    "ax"
   ]
  },
  {
   "cell_type": "markdown",
   "id": "1ba3153f",
   "metadata": {},
   "source": [
    "\n",
    "#### Investigando mais a variavél dependente (y) juntamento com as outras caracteristicas, irei fazer um box plot da variável dependente em conjunto com cada variável explicativa (somente as categóricas)."
   ]
  },
  {
   "cell_type": "markdown",
   "id": "bc77bc3d",
   "metadata": {},
   "source": [
    "#### Preço x Garagem"
   ]
  },
  {
   "cell_type": "code",
   "execution_count": 10,
   "id": "6e75fcb3",
   "metadata": {},
   "outputs": [
    {
     "data": {
      "text/plain": [
       "<AxesSubplot:title={'center':'Preços dos imóveis'}, xlabel='Número de Vagas de Garagem', ylabel='R$'>"
      ]
     },
     "execution_count": 10,
     "metadata": {},
     "output_type": "execute_result"
    },
    {
     "data": {
      "image/png": "[encoded data removed]",
      "text/plain": [
       "<Figure size 864x432 with 1 Axes>"
      ]
     },
     "metadata": {},
     "output_type": "display_data"
    }
   ],
   "source": [
    "ax = sns.boxplot(y = 'precos', x = 'garagem' , data = dados, orient = 'v', width = 0.5)\n",
    "ax.figure.set_size_inches(12, 6)\n",
    "ax.set_title('Preços dos imóveis', fontsize = 20)\n",
    "ax.set_xlabel('Número de Vagas de Garagem', fontsize = 16)\n",
    "ax.set_ylabel('R$', fontsize = 16)\n",
    "ax"
   ]
  },
  {
   "cell_type": "markdown",
   "id": "aa23547c",
   "metadata": {},
   "source": [
    "#### Preço x Banheiro"
   ]
  },
  {
   "cell_type": "code",
   "execution_count": 11,
   "id": "a4ef3c16",
   "metadata": {},
   "outputs": [
    {
     "data": {
      "text/plain": [
       "<AxesSubplot:title={'center':'Preços dos imóveis'}, xlabel='Número de Banheiros', ylabel='R$'>"
      ]
     },
     "execution_count": 11,
     "metadata": {},
     "output_type": "execute_result"
    },
    {
     "data": {
      "image/png": "[encoded data removed]",
      "text/plain": [
       "<Figure size 864x432 with 1 Axes>"
      ]
     },
     "metadata": {},
     "output_type": "display_data"
    }
   ],
   "source": [
    "ax = sns.boxplot(y = 'precos', x = 'banheiros' , data = dados, orient = 'v', width = 0.5)\n",
    "ax.figure.set_size_inches(12, 6)\n",
    "ax.set_title('Preços dos imóveis', fontsize = 20)\n",
    "ax.set_xlabel('Número de Banheiros', fontsize = 16)\n",
    "ax.set_ylabel('R$', fontsize = 16)\n",
    "ax"
   ]
  },
  {
   "cell_type": "markdown",
   "id": "6dad6df2",
   "metadata": {},
   "source": [
    "#### Preço x lareira"
   ]
  },
  {
   "cell_type": "code",
   "execution_count": 12,
   "id": "91557724",
   "metadata": {},
   "outputs": [
    {
     "data": {
      "text/plain": [
       "<AxesSubplot:title={'center':'Preços dos imóveis'}, xlabel='Número de Lareiras', ylabel='R$'>"
      ]
     },
     "execution_count": 12,
     "metadata": {},
     "output_type": "execute_result"
    },
    {
     "data": {
      "image/png": "[encoded data removed]",
      "text/plain": [
       "<Figure size 864x432 with 1 Axes>"
      ]
     },
     "metadata": {},
     "output_type": "display_data"
    }
   ],
   "source": [
    "ax = sns.boxplot(y = 'precos', x = 'lareira' , data = dados, orient = 'v', width = 0.5)\n",
    "ax.figure.set_size_inches(12, 6)\n",
    "ax.set_title('Preços dos imóveis', fontsize = 20)\n",
    "ax.set_xlabel('Número de Lareiras', fontsize = 16)\n",
    "ax.set_ylabel('R$', fontsize = 16)\n",
    "ax"
   ]
  },
  {
   "cell_type": "markdown",
   "id": "d34d67f4",
   "metadata": {},
   "source": [
    "#### Preço x Acabamento em Mármore"
   ]
  },
  {
   "cell_type": "code",
   "execution_count": 13,
   "id": "47f09e6d",
   "metadata": {},
   "outputs": [
    {
     "data": {
      "text/plain": [
       "<AxesSubplot:title={'center':'Preços dos imóveis'}, xlabel='Acabamento em Mármore', ylabel='R$'>"
      ]
     },
     "execution_count": 13,
     "metadata": {},
     "output_type": "execute_result"
    },
    {
     "data": {
      "image/png": "[encoded data removed]",
      "text/plain": [
       "<Figure size 864x432 with 1 Axes>"
      ]
     },
     "metadata": {},
     "output_type": "display_data"
    }
   ],
   "source": [
    "ax = sns.boxplot(y = 'precos', x = 'marmore' , data = dados, orient = 'v', width = 0.5)\n",
    "ax.figure.set_size_inches(12, 6)\n",
    "ax.set_title('Preços dos imóveis', fontsize = 20)\n",
    "ax.set_xlabel('Acabamento em Mármore', fontsize = 16)\n",
    "ax.set_ylabel('R$', fontsize = 16)\n",
    "ax"
   ]
  },
  {
   "cell_type": "markdown",
   "id": "59086ae9",
   "metadata": {},
   "source": [
    "#### Preço x Andares"
   ]
  },
  {
   "cell_type": "code",
   "execution_count": 14,
   "id": "90093254",
   "metadata": {},
   "outputs": [
    {
     "data": {
      "text/plain": [
       "<AxesSubplot:title={'center':'Preços dos imóveis'}, xlabel='Mais de um Andar', ylabel='R$'>"
      ]
     },
     "execution_count": 14,
     "metadata": {},
     "output_type": "execute_result"
    },
    {
     "data": {
      "image/png": "[encoded data removed]",
      "text/plain": [
       "<Figure size 864x432 with 1 Axes>"
      ]
     },
     "metadata": {},
     "output_type": "display_data"
    }
   ],
   "source": [
    "ax = sns.boxplot(y = 'precos', x = 'andares' , data = dados, orient = 'v', width = 0.5)\n",
    "ax.figure.set_size_inches(12, 6)\n",
    "ax.set_title('Preços dos imóveis', fontsize = 20)\n",
    "ax.set_xlabel('Mais de um Andar', fontsize = 16)\n",
    "ax.set_ylabel('R$', fontsize = 16)\n",
    "ax"
   ]
  },
  {
   "cell_type": "markdown",
   "id": "189c0404",
   "metadata": {},
   "source": [
    "#### Fiz a utilização do histograma para avaliar a distribuição de frequências da variável dependente parece ser assimétrica e é possível supor que a variável dependente segue uma distribuição normal."
   ]
  },
  {
   "cell_type": "code",
   "execution_count": 15,
   "id": "2c0bf0cd",
   "metadata": {},
   "outputs": [
    {
     "data": {
      "text/plain": [
       "<AxesSubplot:title={'center':'Distruição de Frequência - Preços'}, xlabel='precos', ylabel='Frequência'>"
      ]
     },
     "execution_count": 15,
     "metadata": {},
     "output_type": "execute_result"
    },
    {
     "data": {
      "image/png": "[encoded data removed]",
      "text/plain": [
       "<Figure size 864x432 with 1 Axes>"
      ]
     },
     "metadata": {},
     "output_type": "display_data"
    }
   ],
   "source": [
    "ax = sns.distplot(dados['precos'])\n",
    "ax.figure.set_size_inches(12,6)\n",
    "ax.set_title('Distruição de Frequência - Preços', fontsize = 20)\n",
    "ax.set_ylabel('Frequência', fontsize = 16)\n",
    "ax"
   ]
  },
  {
   "cell_type": "markdown",
   "id": "bc449397",
   "metadata": {},
   "source": [
    "#### Plotei gráficos de dispersão da variável dependente contra cada variável explicativa. Utilize o pairplot da biblioteca seaborn para isso."
   ]
  },
  {
   "cell_type": "code",
   "execution_count": 16,
   "id": "fb18f914",
   "metadata": {},
   "outputs": [
    {
     "data": {
      "text/plain": [
       "<seaborn.axisgrid.PairGrid at 0x1b516b884f0>"
      ]
     },
     "execution_count": 16,
     "metadata": {},
     "output_type": "execute_result"
    },
    {
     "data": {
      "image/png": "[encoded data removed]",
      "text/plain": [
       "<Figure size 1080x180 with 6 Axes>"
      ]
     },
     "metadata": {},
     "output_type": "display_data"
    }
   ],
   "source": [
    "# Apliquei especificação kind = 'reg' traça uma reta de regressão\n",
    "ax = sns.pairplot(dados, y_vars = 'precos', x_vars = ['area', 'garagem', 'banheiros', 'lareira', 'marmore', 'andares'], kind = 'reg' )\n",
    "ax.fig.suptitle('Dispersão entre as Variáveis', fontsize=20, y=1.05)\n",
    "ax"
   ]
  },
  {
   "cell_type": "code",
   "execution_count": null,
   "id": "7ccedf64",
   "metadata": {},
   "outputs": [],
   "source": []
  },
  {
   "cell_type": "markdown",
   "id": "149a9fec",
   "metadata": {},
   "source": [
    "# Estimando um modelo de regressão Linear"
   ]
  },
  {
   "cell_type": "markdown",
   "id": "06c150ec",
   "metadata": {},
   "source": [
    "### Criando uma Series (pandas) para armazenar a variável dependente (y) e explicativas (X)"
   ]
  },
  {
   "cell_type": "code",
   "execution_count": 17,
   "id": "9ef236e7",
   "metadata": {},
   "outputs": [],
   "source": [
    "y = dados['precos']"
   ]
  },
  {
   "cell_type": "code",
   "execution_count": 18,
   "id": "d69892b6",
   "metadata": {},
   "outputs": [],
   "source": [
    "X = dados[['area', 'garagem', 'banheiros', 'lareira', 'marmore', 'andares']]"
   ]
  },
  {
   "cell_type": "markdown",
   "id": "c1fda8f2",
   "metadata": {},
   "source": [
    "### Criando os datasets de treino e de teste"
   ]
  },
  {
   "cell_type": "code",
   "execution_count": 19,
   "id": "f199054b",
   "metadata": {},
   "outputs": [],
   "source": [
    "X_train, X_test, y_train, y_test = train_test_split(X, y, test_size=0.3, random_state=2811)"
   ]
  },
  {
   "cell_type": "markdown",
   "id": "512a18b7",
   "metadata": {},
   "source": [
    "### Instanciando a classe LinearRegression()"
   ]
  },
  {
   "cell_type": "code",
   "execution_count": 20,
   "id": "6ee3a2c0",
   "metadata": {},
   "outputs": [],
   "source": [
    "modelo = LinearRegression()"
   ]
  },
  {
   "cell_type": "markdown",
   "id": "8cf6f503",
   "metadata": {},
   "source": [
    "### Utilizando o método fit() para estimar o modelo linear utilizando os dados de TREINO (y_train e X_train)"
   ]
  },
  {
   "cell_type": "code",
   "execution_count": 21,
   "id": "d00bcf67",
   "metadata": {},
   "outputs": [
    {
     "data": {
      "text/plain": [
       "LinearRegression()"
      ]
     },
     "execution_count": 21,
     "metadata": {},
     "output_type": "execute_result"
    }
   ],
   "source": [
    "modelo.fit(X_train, y_train)"
   ]
  },
  {
   "cell_type": "markdown",
   "id": "95bf9a49",
   "metadata": {},
   "source": [
    "### Obtendo o coeficiente de determinação (R²) do modelo estimado com os dados de TREINO\n",
    "R² é uma medida resumida que diz quanto a linha de regressão ajusta-se aos dados."
   ]
  },
  {
   "cell_type": "code",
   "execution_count": 22,
   "id": "7abd1d18",
   "metadata": {},
   "outputs": [
    {
     "name": "stdout",
     "output_type": "stream",
     "text": [
      "R² = 0.64\n"
     ]
    }
   ],
   "source": [
    "print('R² = {}'.format(modelo.score(X_train, y_train).round(2)))"
   ]
  },
  {
   "cell_type": "markdown",
   "id": "7786cb24",
   "metadata": {},
   "source": [
    "### Gerando previsões para os dados de TESTE (X_test) utilizando o método *predict()*"
   ]
  },
  {
   "cell_type": "code",
   "execution_count": 23,
   "id": "b88ce46c",
   "metadata": {},
   "outputs": [],
   "source": [
    "resultado = modelo.predict(X_test)"
   ]
  },
  {
   "cell_type": "code",
   "execution_count": 24,
   "id": "31f889e3",
   "metadata": {},
   "outputs": [
    {
     "name": "stdout",
     "output_type": "stream",
     "text": [
      "MS = 50197019.50014966\n",
      "Score = 0.6699752959366424\n"
     ]
    }
   ],
   "source": [
    "print(f'MS = {mean_squared_error(y_test, resultado)}')\n",
    "print(f'Score = {modelo.score(X_test, y_test)}')"
   ]
  },
  {
   "cell_type": "markdown",
   "id": "fae9677b",
   "metadata": {},
   "source": [
    "### Obtendo o coeficiente de determinação (R²) para as previsões do nosso modelo"
   ]
  },
  {
   "cell_type": "code",
   "execution_count": 25,
   "id": "67cc5214",
   "metadata": {},
   "outputs": [
    {
     "name": "stdout",
     "output_type": "stream",
     "text": [
      "R² = 0.67\n"
     ]
    }
   ],
   "source": [
    "print('R² = %s' % metrics.r2_score(y_test, resultado).round(2))"
   ]
  },
  {
   "cell_type": "markdown",
   "id": "7a7c8a49",
   "metadata": {},
   "source": [
    "# Obtendo prvisões pontuais criando um simulador simples"
   ]
  },
  {
   "cell_type": "code",
   "execution_count": 26,
   "id": "4e5920d6",
   "metadata": {},
   "outputs": [
    {
     "name": "stdout",
     "output_type": "stream",
     "text": [
      "$ 46389.80\n"
     ]
    }
   ],
   "source": [
    "area=38\n",
    "garagem=2\n",
    "banheiros=4\n",
    "lareira=4\n",
    "marmore=0\n",
    "andares=1\n",
    "\n",
    "entrada=[[area, garagem, banheiros, lareira, marmore, andares]]\n",
    "\n",
    "print('$ {0:.2f}'.format(modelo.predict(entrada)[0]))"
   ]
  },
  {
   "cell_type": "markdown",
   "id": "6120a86a",
   "metadata": {},
   "source": [
    "### Obtendo as métricas erro quadrático médio (EQM), raiz do erro quadrático médio (REQM) e o coeficiente de determinação (R²) "
   ]
  },
  {
   "cell_type": "code",
   "execution_count": 27,
   "id": "2a98bdd5",
   "metadata": {},
   "outputs": [
    {
     "data": {
      "text/html": [
       "<div>\n",
       "<style scoped>\n",
       "    .dataframe tbody tr th:only-of-type {\n",
       "        vertical-align: middle;\n",
       "    }\n",
       "\n",
       "    .dataframe tbody tr th {\n",
       "        vertical-align: top;\n",
       "    }\n",
       "\n",
       "    .dataframe thead th {\n",
       "        text-align: right;\n",
       "    }\n",
       "</style>\n",
       "<table border=\"1\" class=\"dataframe\">\n",
       "  <thead>\n",
       "    <tr style=\"text-align: right;\">\n",
       "      <th></th>\n",
       "      <th>Métricas</th>\n",
       "    </tr>\n",
       "  </thead>\n",
       "  <tbody>\n",
       "    <tr>\n",
       "      <th>EQM</th>\n",
       "      <td>50197019.50</td>\n",
       "    </tr>\n",
       "    <tr>\n",
       "      <th>REQM</th>\n",
       "      <td>7084.99</td>\n",
       "    </tr>\n",
       "    <tr>\n",
       "      <th>R²</th>\n",
       "      <td>0.67</td>\n",
       "    </tr>\n",
       "  </tbody>\n",
       "</table>\n",
       "</div>"
      ],
      "text/plain": [
       "         Métricas\n",
       "EQM   50197019.50\n",
       "REQM      7084.99\n",
       "R²           0.67"
      ]
     },
     "execution_count": 27,
     "metadata": {},
     "output_type": "execute_result"
    }
   ],
   "source": [
    "EQM = metrics.mean_squared_error(y_test, resultado).round(2)\n",
    "REQM = np.sqrt(metrics.mean_squared_error(y_test, resultado)).round(2)\n",
    "R2 = metrics.r2_score(y_test, resultado).round(2)\n",
    "\n",
    "pd.DataFrame([EQM, REQM, R2], ['EQM', 'REQM', 'R²'], columns=['Métricas'])"
   ]
  },
  {
   "cell_type": "markdown",
   "id": "cfce06b0",
   "metadata": {},
   "source": [
    "### Salvando o modelo estimado "
   ]
  },
  {
   "cell_type": "code",
   "execution_count": 28,
   "id": "5d6ead7d",
   "metadata": {},
   "outputs": [],
   "source": [
    "output = open('modelo_preco', 'wb')\n",
    "pickle.dump(modelo, output)\n",
    "output.close()"
   ]
  },
  {
   "cell_type": "code",
   "execution_count": null,
   "id": "62d90191",
   "metadata": {},
   "outputs": [],
   "source": []
  },
  {
   "cell_type": "code",
   "execution_count": null,
   "id": "f7437e90",
   "metadata": {},
   "outputs": [],
   "source": []
  }
 ],
 "metadata": {
  "kernelspec": {
   "display_name": "Python 3 (ipykernel)",
   "language": "python",
   "name": "python3"
  },
  "language_info": {
   "codemirror_mode": {
    "name": "ipython",
    "version": 3
   },
   "file_extension": ".py",
   "mimetype": "text/x-python",
   "name": "python",
   "nbconvert_exporter": "python",
   "pygments_lexer": "ipython3",
   "version": "3.9.7"
  }
 },
 "nbformat": 4,
 "nbformat_minor": 5
}
